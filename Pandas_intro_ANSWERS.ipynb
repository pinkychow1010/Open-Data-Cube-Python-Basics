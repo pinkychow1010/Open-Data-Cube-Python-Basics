{
  "nbformat": 4,
  "nbformat_minor": 0,
  "metadata": {
    "colab": {
      "name": "Pandas_intro_ANSWERS.ipynb",
      "provenance": [],
      "collapsed_sections": []
    },
    "kernelspec": {
      "name": "python3",
      "display_name": "Python 3"
    },
    "language_info": {
      "name": "python"
    }
  },
  "cells": [
    {
      "cell_type": "markdown",
      "metadata": {
        "id": "gKsX5nzhZeD_"
      },
      "source": [
        "# **Pandas Basics on CSV reading and Data Manipulation**\n",
        "\n",
        "Pandas is defined as an open-source library that provides high-performance data manipulation in Python. It is built on top of the NumPy package, which means Numpy is required for operating the Pandas. Pandas is a popular library for working with tabular data, as it provides some sets of powerful tools like DataFrame and Series that mainly used for analyzing the data. Besides, Pandas also has higher performance when dealing with very large dataset. In this exercise, we will see how can we use Pandas to read csv file and do some basic calculation.\n",
        "\n",
        "In this exercise we have three different csv file, which are data coming from the classification results and validation data in the Landsat scene.\n",
        "\n",
        "### **csv 1: 1_accuracy_groundtruth.csv** (it is the validation data manually collected)\n",
        "* it has one column with three values, 1: snow, 2: snowfree, 12: invalid\n",
        "\n",
        "### **csv 2: 2_accuracy_class1.csv** (it is the classification results using classification scheme 1)\n",
        "* it has one column with three values, 11: snow, 10: snowfree, 12: cloud, 15: water, 16: shadow, 0: missing data\n",
        "\n",
        "### **csv 3: 3_accuracy_class2.csv** (it is the classification results using classification scheme 2)\n",
        "* it has one column with three values, 11: snow, 10: snowfree, 12: cloud, 15: water, 16: shadow, 0: missing data\n",
        "\n",
        "### **All cloud, water, shadow, and missing data are considered invalid in the ground truth data.**"
      ]
    },
    {
      "cell_type": "markdown",
      "metadata": {
        "id": "Ttd3Qzkmgu4Y"
      },
      "source": [
        "## Task 1: Import required libraries"
      ]
    },
    {
      "cell_type": "code",
      "metadata": {
        "id": "3CGDlZSJWuNA"
      },
      "source": [
        "# import libraries\n",
        "import numpy as np\n",
        "import pandas as pd"
      ],
      "execution_count": null,
      "outputs": []
    },
    {
      "cell_type": "code",
      "metadata": {
        "colab": {
          "base_uri": "https://localhost:8080/"
        },
        "id": "orlGsQSJW-Kt",
        "outputId": "923a76e4-c926-4696-f0c4-bbe9f3b5af8c"
      },
      "source": [
        "# connect to google drive\n",
        "from google.colab import drive\n",
        "drive.mount('/content/drive/')"
      ],
      "execution_count": null,
      "outputs": [
        {
          "output_type": "stream",
          "name": "stdout",
          "text": [
            "Mounted at /content/drive/\n"
          ]
        }
      ]
    },
    {
      "cell_type": "markdown",
      "metadata": {
        "id": "jToUqG5ygz0k"
      },
      "source": [
        "## Task 2: Read all 3 csv files into Pandas dataframe\n",
        "\n",
        "* Ground Truth as **groundtruth_df**\n",
        "\n",
        "* Classification 1 as **class1_df**\n",
        "\n",
        "* Classification 2 as **class2_df**"
      ]
    },
    {
      "cell_type": "code",
      "metadata": {
        "id": "but2yCxnagL0"
      },
      "source": [
        "groundtruth_path = r'/content/drive/MyDrive/1_accuracy_groundtruth.csv'\n",
        "\n",
        "groundtruth_df = pd.read_csv(groundtruth_path)"
      ],
      "execution_count": null,
      "outputs": []
    },
    {
      "cell_type": "code",
      "metadata": {
        "id": "DEhoALYtatd4"
      },
      "source": [
        "class1_path = r'/content/drive/MyDrive/2_classification_method_1.csv'\n",
        "\n",
        "class1_df = pd.read_csv(class1_path)"
      ],
      "execution_count": null,
      "outputs": []
    },
    {
      "cell_type": "code",
      "metadata": {
        "id": "MGsYgNgna6s6"
      },
      "source": [
        "class2_path = r'/content/drive/MyDrive/3_classification_method_2.csv'\n",
        "\n",
        "class2_df = pd.read_csv(class2_path)"
      ],
      "execution_count": null,
      "outputs": []
    },
    {
      "cell_type": "markdown",
      "metadata": {
        "id": "_ztUY1Q-g-Xz"
      },
      "source": [
        "## Task 3: Print the first 10 lines of **groundtruth_df** and the last line of **groundtruth_df**"
      ]
    },
    {
      "cell_type": "code",
      "metadata": {
        "colab": {
          "base_uri": "https://localhost:8080/",
          "height": 359
        },
        "id": "YH3WtwM7bKth",
        "outputId": "66fc5ba9-aa12-445b-e3d3-a148888ff38c"
      },
      "source": [
        "groundtruth_df.head(10)"
      ],
      "execution_count": null,
      "outputs": [
        {
          "output_type": "execute_result",
          "data": {
            "text/html": [
              "<div>\n",
              "<style scoped>\n",
              "    .dataframe tbody tr th:only-of-type {\n",
              "        vertical-align: middle;\n",
              "    }\n",
              "\n",
              "    .dataframe tbody tr th {\n",
              "        vertical-align: top;\n",
              "    }\n",
              "\n",
              "    .dataframe thead th {\n",
              "        text-align: right;\n",
              "    }\n",
              "</style>\n",
              "<table border=\"1\" class=\"dataframe\">\n",
              "  <thead>\n",
              "    <tr style=\"text-align: right;\">\n",
              "      <th></th>\n",
              "      <th>snowcover</th>\n",
              "    </tr>\n",
              "  </thead>\n",
              "  <tbody>\n",
              "    <tr>\n",
              "      <th>0</th>\n",
              "      <td>1</td>\n",
              "    </tr>\n",
              "    <tr>\n",
              "      <th>1</th>\n",
              "      <td>1</td>\n",
              "    </tr>\n",
              "    <tr>\n",
              "      <th>2</th>\n",
              "      <td>1</td>\n",
              "    </tr>\n",
              "    <tr>\n",
              "      <th>3</th>\n",
              "      <td>1</td>\n",
              "    </tr>\n",
              "    <tr>\n",
              "      <th>4</th>\n",
              "      <td>1</td>\n",
              "    </tr>\n",
              "    <tr>\n",
              "      <th>5</th>\n",
              "      <td>1</td>\n",
              "    </tr>\n",
              "    <tr>\n",
              "      <th>6</th>\n",
              "      <td>1</td>\n",
              "    </tr>\n",
              "    <tr>\n",
              "      <th>7</th>\n",
              "      <td>1</td>\n",
              "    </tr>\n",
              "    <tr>\n",
              "      <th>8</th>\n",
              "      <td>1</td>\n",
              "    </tr>\n",
              "    <tr>\n",
              "      <th>9</th>\n",
              "      <td>1</td>\n",
              "    </tr>\n",
              "  </tbody>\n",
              "</table>\n",
              "</div>"
            ],
            "text/plain": [
              "   snowcover\n",
              "0          1\n",
              "1          1\n",
              "2          1\n",
              "3          1\n",
              "4          1\n",
              "5          1\n",
              "6          1\n",
              "7          1\n",
              "8          1\n",
              "9          1"
            ]
          },
          "metadata": {},
          "execution_count": 11
        }
      ]
    },
    {
      "cell_type": "code",
      "metadata": {
        "colab": {
          "base_uri": "https://localhost:8080/",
          "height": 80
        },
        "id": "9bEgemjzbP-Z",
        "outputId": "7f5a5ea0-1dd0-478e-836f-6c248ba6e4f5"
      },
      "source": [
        "groundtruth_df.tail(1)"
      ],
      "execution_count": null,
      "outputs": [
        {
          "output_type": "execute_result",
          "data": {
            "text/html": [
              "<div>\n",
              "<style scoped>\n",
              "    .dataframe tbody tr th:only-of-type {\n",
              "        vertical-align: middle;\n",
              "    }\n",
              "\n",
              "    .dataframe tbody tr th {\n",
              "        vertical-align: top;\n",
              "    }\n",
              "\n",
              "    .dataframe thead th {\n",
              "        text-align: right;\n",
              "    }\n",
              "</style>\n",
              "<table border=\"1\" class=\"dataframe\">\n",
              "  <thead>\n",
              "    <tr style=\"text-align: right;\">\n",
              "      <th></th>\n",
              "      <th>snowcover</th>\n",
              "    </tr>\n",
              "  </thead>\n",
              "  <tbody>\n",
              "    <tr>\n",
              "      <th>15130</th>\n",
              "      <td>12</td>\n",
              "    </tr>\n",
              "  </tbody>\n",
              "</table>\n",
              "</div>"
            ],
            "text/plain": [
              "       snowcover\n",
              "15130         12"
            ]
          },
          "metadata": {},
          "execution_count": 14
        }
      ]
    },
    {
      "cell_type": "markdown",
      "metadata": {
        "id": "7Nxgcty7hdY5"
      },
      "source": [
        "## Task 4: Write a function **check_len()** to test if the number of rows in the three Dataframes are the same. It takes input of **df1**, **df2**, **df3**. If they are the same, return **True**. If not, return **False**. Apply the three dataframes into the function."
      ]
    },
    {
      "cell_type": "code",
      "metadata": {
        "id": "0VwDaN3ibdZX"
      },
      "source": [
        "def check_len(df1,df2,df3):\n",
        "  len1 = len(groundtruth_df)\n",
        "  len2 = len(class1_df)\n",
        "  len3 = len(class2_df)\n",
        "  if len1 == len2 == len3:\n",
        "    return True\n",
        "  else:\n",
        "    return False"
      ],
      "execution_count": null,
      "outputs": []
    },
    {
      "cell_type": "code",
      "metadata": {
        "colab": {
          "base_uri": "https://localhost:8080/"
        },
        "id": "tSmEfdanb-SG",
        "outputId": "e298eabf-93cc-472b-a012-17e35074e7c1"
      },
      "source": [
        "check_len(groundtruth_df,class1_df,class2_df)"
      ],
      "execution_count": null,
      "outputs": [
        {
          "output_type": "execute_result",
          "data": {
            "text/plain": [
              "True"
            ]
          },
          "metadata": {},
          "execution_count": 20
        }
      ]
    },
    {
      "cell_type": "markdown",
      "metadata": {
        "id": "-awdFDOriOaH"
      },
      "source": [
        "## Task 5: Create a Pandas Dataframe which includes three columns: \n",
        "* **truth**: from groundtruth_df\n",
        "* **class1**: from class1_df\n",
        "* **class2**: from class2_df\n"
      ]
    },
    {
      "cell_type": "code",
      "metadata": {
        "id": "F1GEHTAMcPy1"
      },
      "source": [
        "data = {'truth': np.array(groundtruth_df.iloc[:, 0]),'class1': np.array(class1_df.iloc[:, 0]), 'class2': np.array(class2_df.iloc[:, 0])}\n",
        "df = pd.DataFrame(data=data)"
      ],
      "execution_count": null,
      "outputs": []
    },
    {
      "cell_type": "code",
      "metadata": {
        "colab": {
          "base_uri": "https://localhost:8080/",
          "height": 419
        },
        "id": "FaUPe89ycm8Z",
        "outputId": "844cd981-daf1-4071-d140-7e44723de23a"
      },
      "source": [
        "df"
      ],
      "execution_count": null,
      "outputs": [
        {
          "output_type": "execute_result",
          "data": {
            "text/html": [
              "<div>\n",
              "<style scoped>\n",
              "    .dataframe tbody tr th:only-of-type {\n",
              "        vertical-align: middle;\n",
              "    }\n",
              "\n",
              "    .dataframe tbody tr th {\n",
              "        vertical-align: top;\n",
              "    }\n",
              "\n",
              "    .dataframe thead th {\n",
              "        text-align: right;\n",
              "    }\n",
              "</style>\n",
              "<table border=\"1\" class=\"dataframe\">\n",
              "  <thead>\n",
              "    <tr style=\"text-align: right;\">\n",
              "      <th></th>\n",
              "      <th>truth</th>\n",
              "      <th>class1</th>\n",
              "      <th>class2</th>\n",
              "    </tr>\n",
              "  </thead>\n",
              "  <tbody>\n",
              "    <tr>\n",
              "      <th>0</th>\n",
              "      <td>1</td>\n",
              "      <td>11.0</td>\n",
              "      <td>11.0</td>\n",
              "    </tr>\n",
              "    <tr>\n",
              "      <th>1</th>\n",
              "      <td>1</td>\n",
              "      <td>11.0</td>\n",
              "      <td>11.0</td>\n",
              "    </tr>\n",
              "    <tr>\n",
              "      <th>2</th>\n",
              "      <td>1</td>\n",
              "      <td>11.0</td>\n",
              "      <td>11.0</td>\n",
              "    </tr>\n",
              "    <tr>\n",
              "      <th>3</th>\n",
              "      <td>1</td>\n",
              "      <td>11.0</td>\n",
              "      <td>11.0</td>\n",
              "    </tr>\n",
              "    <tr>\n",
              "      <th>4</th>\n",
              "      <td>1</td>\n",
              "      <td>12.0</td>\n",
              "      <td>11.0</td>\n",
              "    </tr>\n",
              "    <tr>\n",
              "      <th>...</th>\n",
              "      <td>...</td>\n",
              "      <td>...</td>\n",
              "      <td>...</td>\n",
              "    </tr>\n",
              "    <tr>\n",
              "      <th>15821</th>\n",
              "      <td>12</td>\n",
              "      <td>10.0</td>\n",
              "      <td>15.0</td>\n",
              "    </tr>\n",
              "    <tr>\n",
              "      <th>15822</th>\n",
              "      <td>12</td>\n",
              "      <td>10.0</td>\n",
              "      <td>15.0</td>\n",
              "    </tr>\n",
              "    <tr>\n",
              "      <th>15823</th>\n",
              "      <td>12</td>\n",
              "      <td>10.0</td>\n",
              "      <td>15.0</td>\n",
              "    </tr>\n",
              "    <tr>\n",
              "      <th>15824</th>\n",
              "      <td>12</td>\n",
              "      <td>10.0</td>\n",
              "      <td>15.0</td>\n",
              "    </tr>\n",
              "    <tr>\n",
              "      <th>15825</th>\n",
              "      <td>12</td>\n",
              "      <td>10.0</td>\n",
              "      <td>15.0</td>\n",
              "    </tr>\n",
              "  </tbody>\n",
              "</table>\n",
              "<p>15826 rows × 3 columns</p>\n",
              "</div>"
            ],
            "text/plain": [
              "       truth  class1  class2\n",
              "0          1    11.0    11.0\n",
              "1          1    11.0    11.0\n",
              "2          1    11.0    11.0\n",
              "3          1    11.0    11.0\n",
              "4          1    12.0    11.0\n",
              "...      ...     ...     ...\n",
              "15821     12    10.0    15.0\n",
              "15822     12    10.0    15.0\n",
              "15823     12    10.0    15.0\n",
              "15824     12    10.0    15.0\n",
              "15825     12    10.0    15.0\n",
              "\n",
              "[15826 rows x 3 columns]"
            ]
          },
          "metadata": {},
          "execution_count": 45
        }
      ]
    },
    {
      "cell_type": "markdown",
      "metadata": {
        "id": "eoj33QNFixWi"
      },
      "source": [
        "## Task 6: Data Post-processing\n",
        "\n",
        "Now we shall have a Pandas dataframe with 3 columns of different values representing different classes. But right now invalid class are have different values in class1 and class2 compared to the truth column. And the data type of three columns are not identical. So we need to:\n",
        "\n",
        "1) Make sure all columns have the same data type (integer)\n",
        "\n",
        "2) Change **cloud, water, shadow, and missing data** in class1 and class2 to **invalid class (12)**\n",
        "\n",
        "3) Change 1 in truth column into 11, and change 2 in truth column into 10\n",
        "\n",
        "<br>\n",
        "\n",
        "So at the end, we should have:\n",
        "* **10: Snowfree**\n",
        "* **11: Snow**\n",
        "* **12: Invalid (Snow, Cloud, Missing data, Shadow)**"
      ]
    },
    {
      "cell_type": "code",
      "metadata": {
        "id": "e9HngFOkkxAH"
      },
      "source": [
        "df.truth.replace(0,10, inplace=True)\n",
        "df.truth.replace(1,11, inplace=True)\n",
        "df.replace(15,12, inplace=True)\n",
        "df.replace(16,12, inplace=True)\n",
        "df.replace(0,12, inplace=True)"
      ],
      "execution_count": null,
      "outputs": []
    },
    {
      "cell_type": "code",
      "metadata": {
        "id": "3cMjply3lBt3"
      },
      "source": [
        "df = df.astype('Int64')"
      ],
      "execution_count": null,
      "outputs": []
    },
    {
      "cell_type": "markdown",
      "metadata": {
        "id": "-Ce5sgmFlEq_"
      },
      "source": [
        "## Task 7: Remove Missing Values\n",
        "We have to pay attention that for some columns values might not be available in class1 or class2. To deal with those columns, it is the best to remove the whole row, even through only vlaues in one single column is missing."
      ]
    },
    {
      "cell_type": "code",
      "metadata": {
        "id": "sA5wlpeEldnJ"
      },
      "source": [
        "df.dropna(axis=0, how='any', inplace=True)"
      ],
      "execution_count": null,
      "outputs": []
    },
    {
      "cell_type": "markdown",
      "metadata": {
        "id": "PMS5pphNlodh"
      },
      "source": [
        "And we need to look at the first five lines of df again."
      ]
    },
    {
      "cell_type": "code",
      "metadata": {
        "colab": {
          "base_uri": "https://localhost:8080/",
          "height": 204
        },
        "id": "r_p6X94DlpNW",
        "outputId": "a842c54a-cfb9-4bf9-8f80-eab8a2997ef7"
      },
      "source": [
        "df.head()"
      ],
      "execution_count": null,
      "outputs": [
        {
          "output_type": "execute_result",
          "data": {
            "text/html": [
              "<div>\n",
              "<style scoped>\n",
              "    .dataframe tbody tr th:only-of-type {\n",
              "        vertical-align: middle;\n",
              "    }\n",
              "\n",
              "    .dataframe tbody tr th {\n",
              "        vertical-align: top;\n",
              "    }\n",
              "\n",
              "    .dataframe thead th {\n",
              "        text-align: right;\n",
              "    }\n",
              "</style>\n",
              "<table border=\"1\" class=\"dataframe\">\n",
              "  <thead>\n",
              "    <tr style=\"text-align: right;\">\n",
              "      <th></th>\n",
              "      <th>truth</th>\n",
              "      <th>class1</th>\n",
              "      <th>class2</th>\n",
              "    </tr>\n",
              "  </thead>\n",
              "  <tbody>\n",
              "    <tr>\n",
              "      <th>0</th>\n",
              "      <td>11</td>\n",
              "      <td>11</td>\n",
              "      <td>11</td>\n",
              "    </tr>\n",
              "    <tr>\n",
              "      <th>1</th>\n",
              "      <td>11</td>\n",
              "      <td>11</td>\n",
              "      <td>11</td>\n",
              "    </tr>\n",
              "    <tr>\n",
              "      <th>2</th>\n",
              "      <td>11</td>\n",
              "      <td>11</td>\n",
              "      <td>11</td>\n",
              "    </tr>\n",
              "    <tr>\n",
              "      <th>3</th>\n",
              "      <td>11</td>\n",
              "      <td>11</td>\n",
              "      <td>11</td>\n",
              "    </tr>\n",
              "    <tr>\n",
              "      <th>4</th>\n",
              "      <td>11</td>\n",
              "      <td>12</td>\n",
              "      <td>11</td>\n",
              "    </tr>\n",
              "  </tbody>\n",
              "</table>\n",
              "</div>"
            ],
            "text/plain": [
              "   truth  class1  class2\n",
              "0     11      11      11\n",
              "1     11      11      11\n",
              "2     11      11      11\n",
              "3     11      11      11\n",
              "4     11      12      11"
            ]
          },
          "metadata": {},
          "execution_count": 50
        }
      ]
    },
    {
      "cell_type": "markdown",
      "metadata": {
        "id": "01o1iK14lxnu"
      },
      "source": [
        "## Task 8: Data Exploration\n",
        "\n",
        "Find out how many observations remain for each class in the truth column (three classes in total)."
      ]
    },
    {
      "cell_type": "code",
      "metadata": {
        "colab": {
          "base_uri": "https://localhost:8080/",
          "height": 173
        },
        "id": "Bb6tnfgGl2uX",
        "outputId": "e6c70af9-257c-4b7e-fb24-7642d2448d29"
      },
      "source": [
        "df.groupby('truth').count()"
      ],
      "execution_count": null,
      "outputs": [
        {
          "output_type": "execute_result",
          "data": {
            "text/html": [
              "<div>\n",
              "<style scoped>\n",
              "    .dataframe tbody tr th:only-of-type {\n",
              "        vertical-align: middle;\n",
              "    }\n",
              "\n",
              "    .dataframe tbody tr th {\n",
              "        vertical-align: top;\n",
              "    }\n",
              "\n",
              "    .dataframe thead th {\n",
              "        text-align: right;\n",
              "    }\n",
              "</style>\n",
              "<table border=\"1\" class=\"dataframe\">\n",
              "  <thead>\n",
              "    <tr style=\"text-align: right;\">\n",
              "      <th></th>\n",
              "      <th>class1</th>\n",
              "      <th>class2</th>\n",
              "    </tr>\n",
              "    <tr>\n",
              "      <th>truth</th>\n",
              "      <th></th>\n",
              "      <th></th>\n",
              "    </tr>\n",
              "  </thead>\n",
              "  <tbody>\n",
              "    <tr>\n",
              "      <th>10</th>\n",
              "      <td>5092</td>\n",
              "      <td>5092</td>\n",
              "    </tr>\n",
              "    <tr>\n",
              "      <th>11</th>\n",
              "      <td>5205</td>\n",
              "      <td>5205</td>\n",
              "    </tr>\n",
              "    <tr>\n",
              "      <th>12</th>\n",
              "      <td>5529</td>\n",
              "      <td>5529</td>\n",
              "    </tr>\n",
              "  </tbody>\n",
              "</table>\n",
              "</div>"
            ],
            "text/plain": [
              "       class1  class2\n",
              "truth                \n",
              "10       5092    5092\n",
              "11       5205    5205\n",
              "12       5529    5529"
            ]
          },
          "metadata": {},
          "execution_count": 58
        }
      ]
    },
    {
      "cell_type": "markdown",
      "metadata": {
        "id": "QJ0Btvwdm-bf"
      },
      "source": [
        "## Task 9: Data Export\n",
        "\n",
        "Export df as a csv file."
      ]
    },
    {
      "cell_type": "code",
      "metadata": {
        "id": "LJBCLDvMmRAH"
      },
      "source": [
        "df.to_csv(r'/content/drive/MyDrive/export.csv', index=False)"
      ],
      "execution_count": null,
      "outputs": []
    }
  ]
}
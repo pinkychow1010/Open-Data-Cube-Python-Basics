{
  "nbformat": 4,
  "nbformat_minor": 0,
  "metadata": {
    "colab": {
      "name": "Pandas_plotting_QUESTIONS.ipynb",
      "provenance": [],
      "collapsed_sections": []
    },
    "kernelspec": {
      "name": "python3",
      "display_name": "Python 3"
    },
    "language_info": {
      "name": "python"
    }
  },
  "cells": [
    {
      "cell_type": "markdown",
      "metadata": {
        "id": "gKsX5nzhZeD_"
      },
      "source": [
        "# **Pandas & Seaborn Plotting**\n",
        "\n",
        "Pandas is defined as an open-source library that provides high-performance data manipulation in Python. It is built on top of the NumPy package, which means Numpy is required for operating the Pandas. Pandas is a popular library for working with tabular data, as it provides some sets of powerful tools like DataFrame and Series that mainly used for analyzing the data. Besides, Pandas also has higher performance when dealing with very large dataset. In this exercise, we will see how can we use Pandas to read csv file and do some basic calculation.\n",
        "\n",
        "## Descriptions:\n",
        "This is the notebook following the Pandas intro questions. In the previous exercise, we have reviewed the basic operations of Pandas, including reading csv, data cleaning, post-processing and writing files.\n",
        "\n",
        "In this exercise we will use the processed dataframe / csv file created by the task 9. It can also be downloaded from the GitHub repo (expected_output_task9.csv).\n",
        "\n",
        "Here, we will review some plotting options by combining Matplotlib, Pandas, and Seaborn options.\n",
        "\n",
        "To have some understanding of how Seaborn library works, please follow this [video](youtube.com/watch?v=vaf4ir8eT38&list=PLtPIclEQf-3cG31dxSMZ8KTcDG7zYng1j).\n",
        "\n",
        "<br>\n",
        "***\n",
        "\n",
        "**Tasks will be completed include:**\n",
        "\n",
        "**1) Creating a confusion matrix**\n",
        "\n",
        "**2) Generating a heatmap**\n",
        "\n",
        "**3) Generating a grouped violinplot**\n",
        "\n",
        "**4) Generating subplots of barcharts**"
      ]
    },
    {
      "cell_type": "markdown",
      "metadata": {
        "id": "zF1Rfhvhn9Ch"
      },
      "source": [
        "# Task 10: Confusion Matrix\n",
        "\n",
        "From the last exercise we have our dataframe df with truth, class1 and class2 columns. What we want to do with the columns is to generate a confusion matrix for method 1 (class1), and another matrix for method 2 (class2).\n",
        "\n",
        "These confusion matrices need to be normalized so it is showing the percentage of accuracy (0 to 100%) and rounded to 1 decimal number.\n",
        "\n",
        "Name these matrices to norm1 and norm2.\n",
        "\n",
        "<br>\n",
        "\n",
        "HINT: pd.crosstab()"
      ]
    },
    {
      "cell_type": "code",
      "metadata": {
        "id": "CGN-ilaYB6jE"
      },
      "source": [
        ""
      ],
      "execution_count": null,
      "outputs": []
    },
    {
      "cell_type": "markdown",
      "metadata": {
        "id": "MABMKonR0D_m"
      },
      "source": [
        "# Task 11: Heatmap\n",
        "\n",
        "Next we need to import seaborn library. Then use the heatmap function to generate two heatmaps for method 1 and method 2. Add labels 'Snowfree','Snow','Cloud' to x and y axis instead of numbers. Try out different customized option for better visuals.\n",
        "\n",
        "HINT:\n",
        "https://seaborn.pydata.org/generated/seaborn.heatmap.html\n",
        "\n"
      ]
    },
    {
      "cell_type": "code",
      "metadata": {
        "id": "CW3LAzp_B5yD"
      },
      "source": [
        ""
      ],
      "execution_count": null,
      "outputs": []
    },
    {
      "cell_type": "markdown",
      "metadata": {
        "id": "A2IfItnb1LpR"
      },
      "source": [
        "# Task 12: Violinplot\n",
        "\n",
        "Now we need to import matplotlib for the creation of violinplot. As violinplot is not supported directly using pandas dataframe. We also need seaborn for that. But before plotting, we need to put the wide dataframe to long dataframe as in df, class1 and class2 are two separate columns. We need instead one extra class columns to group the methods. To understand more: https://pandas.pydata.org/docs/reference/api/pandas.wide_to_long.html\n",
        "\n"
      ]
    },
    {
      "cell_type": "code",
      "metadata": {
        "id": "_FosqZRRDOq7"
      },
      "source": [
        ""
      ],
      "execution_count": null,
      "outputs": []
    },
    {
      "cell_type": "markdown",
      "metadata": {
        "id": "JMNH5W3gDO2T"
      },
      "source": [
        "Then we need to make sure the truth and class columns are in float."
      ]
    },
    {
      "cell_type": "code",
      "metadata": {
        "id": "pZ3nAPhkDV6Q"
      },
      "source": [
        ""
      ],
      "execution_count": null,
      "outputs": []
    },
    {
      "cell_type": "markdown",
      "metadata": {
        "id": "49BMDP-cDWNa"
      },
      "source": [
        "Now we can use seaborn for violin plot. To group method 1 and 2 in the plot, we can make use of the hue argument. \n",
        "\n",
        "also add xlabel, ylabel, and title of \"Evaluation of Snow Classification Scheme\". Adjust the fontsize to 14 and plot size to (12, 8)."
      ]
    },
    {
      "cell_type": "markdown",
      "metadata": {
        "id": "PiVcnMt56qPj"
      },
      "source": [
        "# Task 13: Bar chart\n",
        "\n",
        "Now we have the accuracy measures from the confusion matrice. It is also provided in the following code. df_acc1 for method 1 and df_acc2 for method 2. "
      ]
    },
    {
      "cell_type": "code",
      "metadata": {
        "id": "QGOArmUW6pN0"
      },
      "source": [
        "list_ = ['Snowfree','Snow','Cloud']\n",
        "df_acc1 = pd.DataFrame({'class':list_, 'accuracy':[70, 82, 70]})\n",
        "df_acc2 = pd.DataFrame({'class':list_, 'accuracy':[81, 97, 98]})"
      ],
      "execution_count": null,
      "outputs": []
    },
    {
      "cell_type": "markdown",
      "metadata": {
        "id": "h4JxN42SEP6l"
      },
      "source": [
        "Now we need to generate a figure with two subplots (bar charts) for the accuracy for method 1 and 2. Add subtitles, main title, x label, y label, and make sure the range in the y axis are the same in the subplots. Adjust the fontsize to 14."
      ]
    },
    {
      "cell_type": "code",
      "metadata": {
        "id": "LNgbQNbdEJ4d"
      },
      "source": [
        ""
      ],
      "execution_count": null,
      "outputs": []
    }
  ]
}